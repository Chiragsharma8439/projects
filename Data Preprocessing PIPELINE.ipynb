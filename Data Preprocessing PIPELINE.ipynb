{
 "cells": [
  {
   "cell_type": "markdown",
   "id": "ee03208a",
   "metadata": {},
   "source": [
    "# Data Preprocessing Pipeline using Python"
   ]
  },
  {
   "cell_type": "markdown",
   "id": "8e76c8c8",
   "metadata": {},
   "source": [
    "1.Imputing missing values\n",
    "\n",
    "2.Scaling numeric features\n",
    "\n",
    "3.Finding and removing outliers\n",
    "\n",
    "4.Encoding categorical variables"
   ]
  },
  {
   "cell_type": "code",
   "execution_count": 1,
   "id": "034d1929",
   "metadata": {},
   "outputs": [],
   "source": [
    "import pandas as pd\n",
    "import numpy as np \n",
    "from sklearn.preprocessing import StandardScaler\n",
    "\n",
    "\n",
    "def data_preprocessing_pipeline(data):\n",
    "    #identify the numeric and categorical features\n",
    "    numerical_feature = data.select_dtypes(include=['int', 'float']).columns\n",
    "    categorical_feature = data.select_dtypes(include=['object']).columns\n",
    "    \n",
    "    \n",
    "    \n",
    "    # handle missing values in numeric feature\n",
    "    data[numerical_feature] = data[numerical_feature].fillna(data[numerical_feature].mean())\n",
    "    \n",
    "    # Handle outlier in numeric features\n",
    "    for feature in numerical_feature:\n",
    "        Q1 = data[feature].quantile(0.25)\n",
    "        Q3 = data[feature].quantile(0.75)\n",
    "        IQR = Q3 - Q1\n",
    "        lower_bound = Q1 - (1.5*IQR)\n",
    "        upper_bound = Q3 + (1.5*IQR)\n",
    "        data[feature] = np.where((data[feature]< lower_bound) | (data[feature] > upper_bound), data[feature].mean(), \n",
    "                                 data[feature])\n",
    "        \n",
    "    # Normalize numeric features\n",
    "    scaler = StandardScaler()\n",
    "    scaled_data = scaler.fit_transform(data[numerical_feature])\n",
    "    data[numerical_feature] = scaler.transform(data[numerical_feature])\n",
    "    \n",
    "    # Handle missing values in categorical features\n",
    "    data[categorical_feature] = data[categorical_feature].fillna(data[categorical_feature].mode().iloc[0])\n",
    "    \n",
    "    return data"
   ]
  },
  {
   "cell_type": "code",
   "execution_count": 2,
   "id": "e48b0a44",
   "metadata": {},
   "outputs": [],
   "source": [
    "data = pd.read_csv(r'C:\\Users\\ASUS\\Downloads\\data.csv')"
   ]
  },
  {
   "cell_type": "code",
   "execution_count": 3,
   "id": "14350250",
   "metadata": {
    "scrolled": true
   },
   "outputs": [
    {
     "data": {
      "text/html": [
       "<div>\n",
       "<style scoped>\n",
       "    .dataframe tbody tr th:only-of-type {\n",
       "        vertical-align: middle;\n",
       "    }\n",
       "\n",
       "    .dataframe tbody tr th {\n",
       "        vertical-align: top;\n",
       "    }\n",
       "\n",
       "    .dataframe thead th {\n",
       "        text-align: right;\n",
       "    }\n",
       "</style>\n",
       "<table border=\"1\" class=\"dataframe\">\n",
       "  <thead>\n",
       "    <tr style=\"text-align: right;\">\n",
       "      <th></th>\n",
       "      <th>NumericFeature1</th>\n",
       "      <th>NumericFeature2</th>\n",
       "      <th>CategoricalFeature</th>\n",
       "    </tr>\n",
       "  </thead>\n",
       "  <tbody>\n",
       "    <tr>\n",
       "      <th>0</th>\n",
       "      <td>1.0</td>\n",
       "      <td>7</td>\n",
       "      <td>A</td>\n",
       "    </tr>\n",
       "    <tr>\n",
       "      <th>1</th>\n",
       "      <td>2.0</td>\n",
       "      <td>8</td>\n",
       "      <td>B</td>\n",
       "    </tr>\n",
       "    <tr>\n",
       "      <th>2</th>\n",
       "      <td>NaN</td>\n",
       "      <td>9</td>\n",
       "      <td>NaN</td>\n",
       "    </tr>\n",
       "    <tr>\n",
       "      <th>3</th>\n",
       "      <td>4.0</td>\n",
       "      <td>10</td>\n",
       "      <td>A</td>\n",
       "    </tr>\n",
       "    <tr>\n",
       "      <th>4</th>\n",
       "      <td>5.0</td>\n",
       "      <td>11</td>\n",
       "      <td>B</td>\n",
       "    </tr>\n",
       "  </tbody>\n",
       "</table>\n",
       "</div>"
      ],
      "text/plain": [
       "   NumericFeature1  NumericFeature2 CategoricalFeature\n",
       "0              1.0                7                  A\n",
       "1              2.0                8                  B\n",
       "2              NaN                9                NaN\n",
       "3              4.0               10                  A\n",
       "4              5.0               11                  B"
      ]
     },
     "execution_count": 3,
     "metadata": {},
     "output_type": "execute_result"
    }
   ],
   "source": [
    "data.head()"
   ]
  },
  {
   "cell_type": "code",
   "execution_count": 4,
   "id": "19c0b742",
   "metadata": {},
   "outputs": [],
   "source": [
    "cleaned_data = data_preprocessing_pipeline(data)"
   ]
  },
  {
   "cell_type": "code",
   "execution_count": 5,
   "id": "80aa27c7",
   "metadata": {},
   "outputs": [
    {
     "name": "stdout",
     "output_type": "stream",
     "text": [
      "   NumericFeature1  NumericFeature2 CategoricalFeature\n",
      "0        -1.535624        -1.099370                  A\n",
      "1        -0.944999        -0.749128                  B\n",
      "2         0.000000        -0.398886                  A\n",
      "3         0.236250        -0.048645                  A\n",
      "4         0.826874         0.301597                  B\n",
      "5         1.417499         1.994431                  C\n"
     ]
    }
   ],
   "source": [
    "print(cleaned_data)"
   ]
  }
 ],
 "metadata": {
  "kernelspec": {
   "display_name": "Python 3 (ipykernel)",
   "language": "python",
   "name": "python3"
  },
  "language_info": {
   "codemirror_mode": {
    "name": "ipython",
    "version": 3
   },
   "file_extension": ".py",
   "mimetype": "text/x-python",
   "name": "python",
   "nbconvert_exporter": "python",
   "pygments_lexer": "ipython3",
   "version": "3.9.13"
  }
 },
 "nbformat": 4,
 "nbformat_minor": 5
}
